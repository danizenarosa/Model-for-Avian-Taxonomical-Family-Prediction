{
 "cells": [
  {
   "cell_type": "code",
   "execution_count": 54,
   "id": "35461dd5-ecb8-44de-8677-e2f51f5e1c71",
   "metadata": {},
   "outputs": [
    {
     "ename": "ERROR",
     "evalue": "Error in library(openxlsx): there is no package called ‘openxlsx’\n",
     "output_type": "error",
     "traceback": [
      "Error in library(openxlsx): there is no package called ‘openxlsx’\nTraceback:\n",
      "1. library(openxlsx)"
     ]
    }
   ],
   "source": [
    "library(repr)\n",
    "library(tidyverse)\n",
    "library(tidymodels)\n",
    "library(readxl)\n",
    "library(openxlsx)\n",
    "options(repr.matrix.max.rows = 10)"
   ]
  },
  {
   "cell_type": "code",
   "execution_count": 56,
   "id": "fd7ed26c-97f3-42c9-88c4-09621663d3e1",
   "metadata": {},
   "outputs": [
    {
     "name": "stderr",
     "output_type": "stream",
     "text": [
      "Warning message in download.file(url1, p1f, mode = \"wb\"):\n",
      "“cannot open URL 'https://github.com/danizenarosa/dsci-100-grp43/blob/main/AVONET%20Supplementary%20dataset%201.xlsx': HTTP status was '404 Not Found'”\n"
     ]
    },
    {
     "ename": "ERROR",
     "evalue": "Error in download.file(url1, p1f, mode = \"wb\"): cannot open URL 'https://github.com/danizenarosa/dsci-100-grp43/blob/main/AVONET%20Supplementary%20dataset%201.xlsx'\n",
     "output_type": "error",
     "traceback": [
      "Error in download.file(url1, p1f, mode = \"wb\"): cannot open URL 'https://github.com/danizenarosa/dsci-100-grp43/blob/main/AVONET%20Supplementary%20dataset%201.xlsx'\nTraceback:\n",
      "1. download.file(url1, p1f, mode = \"wb\")"
     ]
    }
   ],
   "source": [
    "url1<-'https://github.com/danizenarosa/dsci-100-grp43/blob/main/AVONET%20Supplementary%20dataset%201.xlsx'\n",
    "p1f <- tempfile()\n",
    "download.file(url1, p1f, mode=\"wb\")\n",
    "p1<-read_excel(path = p1f, sheet = 2)\n",
    "p1"
   ]
  },
  {
   "cell_type": "code",
   "execution_count": 55,
   "id": "b1e82443-eb5f-47d0-b5a3-29a43ded62c7",
   "metadata": {},
   "outputs": [
    {
     "ename": "ERROR",
     "evalue": "Error: `path` does not exist: ‘https://github.com/danizenarosa/dsci-100-grp43/blob/main/AVONET%20Supplementary%20dataset%201.xlsx’\n",
     "output_type": "error",
     "traceback": [
      "Error: `path` does not exist: ‘https://github.com/danizenarosa/dsci-100-grp43/blob/main/AVONET%20Supplementary%20dataset%201.xlsx’\nTraceback:\n",
      "1. read_excel(url, sheet = \"AVONET1_BirdLife\")",
      "2. check_file(path)",
      "3. stop(\"`path` does not exist: \", sQuote(path), call. = FALSE)"
     ]
    }
   ],
   "source": [
    "#url <- \"https://github.com/danizenarosa/dsci-100-grp43/blob/main/AVONET%20Supplementary%20dataset%201.xlsx\"\n",
    "#read_excel(url, sheet = \"AVONET1_BirdLife\")\n",
    "\n",
    "#bird_data <- read_excel(\"data/birds.xlsx\", sheet = \"AVONET1_BirdLife\")\n",
    "#bird_data"
   ]
  },
  {
   "cell_type": "code",
   "execution_count": 49,
   "id": "1a293cc3-81b7-43db-ba55-438bfe4747cc",
   "metadata": {},
   "outputs": [
    {
     "data": {
      "text/html": [
       "<table class=\"dataframe\">\n",
       "<caption>A tibble: 10 × 2</caption>\n",
       "<thead>\n",
       "\t<tr><th scope=col>Family1</th><th scope=col>count</th></tr>\n",
       "\t<tr><th scope=col>&lt;chr&gt;</th><th scope=col>&lt;int&gt;</th></tr>\n",
       "</thead>\n",
       "<tbody>\n",
       "\t<tr><td>Tyrannidae    </td><td>449</td></tr>\n",
       "\t<tr><td>Thraupidae    </td><td>408</td></tr>\n",
       "\t<tr><td>Psittacidae   </td><td>380</td></tr>\n",
       "\t<tr><td>Trochilidae   </td><td>366</td></tr>\n",
       "\t<tr><td>Columbidae    </td><td>353</td></tr>\n",
       "\t<tr><td>Muscicapidae  </td><td>335</td></tr>\n",
       "\t<tr><td>Furnariidae   </td><td>329</td></tr>\n",
       "\t<tr><td>Picidae       </td><td>253</td></tr>\n",
       "\t<tr><td>Accipitridae  </td><td>249</td></tr>\n",
       "\t<tr><td>Thamnophilidae</td><td>242</td></tr>\n",
       "</tbody>\n",
       "</table>\n"
      ],
      "text/latex": [
       "A tibble: 10 × 2\n",
       "\\begin{tabular}{ll}\n",
       " Family1 & count\\\\\n",
       " <chr> & <int>\\\\\n",
       "\\hline\n",
       "\t Tyrannidae     & 449\\\\\n",
       "\t Thraupidae     & 408\\\\\n",
       "\t Psittacidae    & 380\\\\\n",
       "\t Trochilidae    & 366\\\\\n",
       "\t Columbidae     & 353\\\\\n",
       "\t Muscicapidae   & 335\\\\\n",
       "\t Furnariidae    & 329\\\\\n",
       "\t Picidae        & 253\\\\\n",
       "\t Accipitridae   & 249\\\\\n",
       "\t Thamnophilidae & 242\\\\\n",
       "\\end{tabular}\n"
      ],
      "text/markdown": [
       "\n",
       "A tibble: 10 × 2\n",
       "\n",
       "| Family1 &lt;chr&gt; | count &lt;int&gt; |\n",
       "|---|---|\n",
       "| Tyrannidae     | 449 |\n",
       "| Thraupidae     | 408 |\n",
       "| Psittacidae    | 380 |\n",
       "| Trochilidae    | 366 |\n",
       "| Columbidae     | 353 |\n",
       "| Muscicapidae   | 335 |\n",
       "| Furnariidae    | 329 |\n",
       "| Picidae        | 253 |\n",
       "| Accipitridae   | 249 |\n",
       "| Thamnophilidae | 242 |\n",
       "\n"
      ],
      "text/plain": [
       "   Family1        count\n",
       "1  Tyrannidae     449  \n",
       "2  Thraupidae     408  \n",
       "3  Psittacidae    380  \n",
       "4  Trochilidae    366  \n",
       "5  Columbidae     353  \n",
       "6  Muscicapidae   335  \n",
       "7  Furnariidae    329  \n",
       "8  Picidae        253  \n",
       "9  Accipitridae   249  \n",
       "10 Thamnophilidae 242  "
      ]
     },
     "metadata": {},
     "output_type": "display_data"
    }
   ],
   "source": [
    "bird_count <- group_by(bird_data, Family1) |>\n",
    "    summarize(count = n()) |>\n",
    "    arrange(count = desc(count)) |>\n",
    "    slice(1:10)\n",
    "bird_count"
   ]
  },
  {
   "cell_type": "code",
   "execution_count": null,
   "id": "08af78d4-04d5-40a1-ba0e-bdbc7cce1b38",
   "metadata": {},
   "outputs": [],
   "source": []
  }
 ],
 "metadata": {
  "kernelspec": {
   "display_name": "R",
   "language": "R",
   "name": "ir"
  },
  "language_info": {
   "codemirror_mode": "r",
   "file_extension": ".r",
   "mimetype": "text/x-r-source",
   "name": "R",
   "pygments_lexer": "r",
   "version": "4.3.1"
  }
 },
 "nbformat": 4,
 "nbformat_minor": 5
}
