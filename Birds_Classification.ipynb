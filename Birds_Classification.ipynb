{
 "cells": [
  {
   "cell_type": "code",
   "execution_count": 1,
   "id": "e8fbeff6-40b8-48f4-ac08-e65b40a7874c",
   "metadata": {},
   "outputs": [
    {
     "name": "stderr",
     "output_type": "stream",
     "text": [
      "Warning message:\n",
      "“package ‘ggplot2’ was built under R version 4.3.2”\n",
      "── \u001b[1mAttaching core tidyverse packages\u001b[22m ──────────────────────── tidyverse 2.0.0 ──\n",
      "\u001b[32m✔\u001b[39m \u001b[34mdplyr    \u001b[39m 1.1.3     \u001b[32m✔\u001b[39m \u001b[34mreadr    \u001b[39m 2.1.4\n",
      "\u001b[32m✔\u001b[39m \u001b[34mforcats  \u001b[39m 1.0.0     \u001b[32m✔\u001b[39m \u001b[34mstringr  \u001b[39m 1.5.0\n",
      "\u001b[32m✔\u001b[39m \u001b[34mggplot2  \u001b[39m 3.5.0     \u001b[32m✔\u001b[39m \u001b[34mtibble   \u001b[39m 3.2.1\n",
      "\u001b[32m✔\u001b[39m \u001b[34mlubridate\u001b[39m 1.9.2     \u001b[32m✔\u001b[39m \u001b[34mtidyr    \u001b[39m 1.3.0\n",
      "\u001b[32m✔\u001b[39m \u001b[34mpurrr    \u001b[39m 1.0.2     \n",
      "── \u001b[1mConflicts\u001b[22m ────────────────────────────────────────── tidyverse_conflicts() ──\n",
      "\u001b[31m✖\u001b[39m \u001b[34mdplyr\u001b[39m::\u001b[32mfilter()\u001b[39m masks \u001b[34mstats\u001b[39m::filter()\n",
      "\u001b[31m✖\u001b[39m \u001b[34mdplyr\u001b[39m::\u001b[32mlag()\u001b[39m    masks \u001b[34mstats\u001b[39m::lag()\n",
      "\u001b[36mℹ\u001b[39m Use the conflicted package (\u001b[3m\u001b[34m<http://conflicted.r-lib.org/>\u001b[39m\u001b[23m) to force all conflicts to become errors\n",
      "── \u001b[1mAttaching packages\u001b[22m ────────────────────────────────────── tidymodels 1.1.1 ──\n",
      "\n",
      "\u001b[32m✔\u001b[39m \u001b[34mbroom       \u001b[39m 1.0.5     \u001b[32m✔\u001b[39m \u001b[34mrsample     \u001b[39m 1.2.0\n",
      "\u001b[32m✔\u001b[39m \u001b[34mdials       \u001b[39m 1.2.0     \u001b[32m✔\u001b[39m \u001b[34mtune        \u001b[39m 1.1.2\n",
      "\u001b[32m✔\u001b[39m \u001b[34minfer       \u001b[39m 1.0.5     \u001b[32m✔\u001b[39m \u001b[34mworkflows   \u001b[39m 1.1.3\n",
      "\u001b[32m✔\u001b[39m \u001b[34mmodeldata   \u001b[39m 1.2.0     \u001b[32m✔\u001b[39m \u001b[34mworkflowsets\u001b[39m 1.0.1\n",
      "\u001b[32m✔\u001b[39m \u001b[34mparsnip     \u001b[39m 1.1.1     \u001b[32m✔\u001b[39m \u001b[34myardstick   \u001b[39m 1.2.0\n",
      "\u001b[32m✔\u001b[39m \u001b[34mrecipes     \u001b[39m 1.0.8     \n",
      "\n",
      "── \u001b[1mConflicts\u001b[22m ───────────────────────────────────────── tidymodels_conflicts() ──\n",
      "\u001b[31m✖\u001b[39m \u001b[34mscales\u001b[39m::\u001b[32mdiscard()\u001b[39m masks \u001b[34mpurrr\u001b[39m::discard()\n",
      "\u001b[31m✖\u001b[39m \u001b[34mdplyr\u001b[39m::\u001b[32mfilter()\u001b[39m   masks \u001b[34mstats\u001b[39m::filter()\n",
      "\u001b[31m✖\u001b[39m \u001b[34mrecipes\u001b[39m::\u001b[32mfixed()\u001b[39m  masks \u001b[34mstringr\u001b[39m::fixed()\n",
      "\u001b[31m✖\u001b[39m \u001b[34mdplyr\u001b[39m::\u001b[32mlag()\u001b[39m      masks \u001b[34mstats\u001b[39m::lag()\n",
      "\u001b[31m✖\u001b[39m \u001b[34myardstick\u001b[39m::\u001b[32mspec()\u001b[39m masks \u001b[34mreadr\u001b[39m::spec()\n",
      "\u001b[31m✖\u001b[39m \u001b[34mrecipes\u001b[39m::\u001b[32mstep()\u001b[39m   masks \u001b[34mstats\u001b[39m::step()\n",
      "\u001b[34m•\u001b[39m Search for functions across packages at \u001b[32mhttps://www.tidymodels.org/find/\u001b[39m\n",
      "\n"
     ]
    }
   ],
   "source": [
    "library(repr)\n",
    "library(tidyverse)\n",
    "library(tidymodels)\n",
    "library(readxl)\n",
    "library(httr)\n",
    "\n",
    "set.seed(1)\n",
    "options(repr.plot.height = 9, repr.plot.width = 14)"
   ]
  },
  {
   "cell_type": "code",
   "execution_count": 2,
   "id": "1dd8e54d-88a2-4ca5-9441-a8fb817826e4",
   "metadata": {},
   "outputs": [
    {
     "data": {
      "text/plain": [
       "[1] ‘1.4.3’"
      ]
     },
     "metadata": {},
     "output_type": "display_data"
    },
    {
     "data": {
      "text/plain": [
       "Response [https://raw.githubusercontent.com/danizenarosa/dsci-100-grp43/main/data/birds.xlsx]\n",
       "  Date: 2024-04-04 23:08\n",
       "  Status: 200\n",
       "  Content-Type: application/octet-stream\n",
       "  Size: 21.5 MB\n",
       "<ON DISK>  /tmp/RtmpN1xTtK/file14d2637d13c.xlsxNULL"
      ]
     },
     "metadata": {},
     "output_type": "display_data"
    },
    {
     "data": {
      "text/html": [
       "<table class=\"dataframe\">\n",
       "<caption>A tibble: 10 × 13</caption>\n",
       "<thead>\n",
       "\t<tr><th scope=col>Family1</th><th scope=col>count</th><th scope=col>Beak.Length_Culmen</th><th scope=col>Beak.Length_Nares</th><th scope=col>Beak.Width</th><th scope=col>Beak.Depth</th><th scope=col>Tarsus.Length</th><th scope=col>Wing.Length</th><th scope=col>Kipps.Distance</th><th scope=col>Secondary1</th><th scope=col>Hand-Wing.Index</th><th scope=col>Tail.Length</th><th scope=col>Mass</th></tr>\n",
       "\t<tr><th scope=col>&lt;chr&gt;</th><th scope=col>&lt;dbl&gt;</th><th scope=col>&lt;dbl&gt;</th><th scope=col>&lt;dbl&gt;</th><th scope=col>&lt;dbl&gt;</th><th scope=col>&lt;dbl&gt;</th><th scope=col>&lt;dbl&gt;</th><th scope=col>&lt;dbl&gt;</th><th scope=col>&lt;dbl&gt;</th><th scope=col>&lt;dbl&gt;</th><th scope=col>&lt;dbl&gt;</th><th scope=col>&lt;dbl&gt;</th><th scope=col>&lt;dbl&gt;</th></tr>\n",
       "</thead>\n",
       "<tbody>\n",
       "\t<tr><td>Thraupidae    </td><td>4988</td><td>14.98162</td><td> 9.151471</td><td> 5.147059</td><td> 6.517402</td><td>20.008088</td><td> 73.55637</td><td>13.916176</td><td> 59.51912</td><td>18.84118</td><td> 59.21642</td><td> 23.264240</td></tr>\n",
       "\t<tr><td>Tyrannidae    </td><td>4670</td><td>15.56258</td><td> 9.114031</td><td> 5.036748</td><td> 4.019154</td><td>18.646771</td><td> 71.56526</td><td>14.118040</td><td> 57.40601</td><td>18.39532</td><td> 61.27528</td><td> 17.638731</td></tr>\n",
       "\t<tr><td>Furnariidae   </td><td>3878</td><td>22.19301</td><td>15.050760</td><td> 3.935866</td><td> 4.908511</td><td>22.293313</td><td> 80.44681</td><td>13.644681</td><td> 66.80365</td><td>16.38172</td><td> 79.69544</td><td> 30.622097</td></tr>\n",
       "\t<tr><td>Trochilidae   </td><td>3232</td><td>23.85738</td><td>18.869672</td><td> 2.165574</td><td> 2.053279</td><td> 5.131148</td><td> 57.00355</td><td>35.921038</td><td> 20.89918</td><td>63.43224</td><td> 40.48607</td><td>  5.136995</td></tr>\n",
       "\t<tr><td>Muscicapidae  </td><td>2927</td><td>16.52776</td><td> 9.501493</td><td> 4.050448</td><td> 4.124478</td><td>23.618209</td><td> 81.11552</td><td>15.688657</td><td> 65.33761</td><td>19.14179</td><td> 64.11015</td><td> 24.417015</td></tr>\n",
       "\t<tr><td>Thamnophilidae</td><td>2868</td><td>18.38388</td><td>10.777273</td><td> 4.492149</td><td> 4.857851</td><td>22.309917</td><td> 63.35909</td><td> 6.833884</td><td> 57.16033</td><td>10.83967</td><td> 52.60868</td><td> 20.520620</td></tr>\n",
       "\t<tr><td>Psittacidae   </td><td>2212</td><td>25.13895</td><td>20.775263</td><td>12.623421</td><td>21.402632</td><td>16.787895</td><td>152.61053</td><td>60.650789</td><td> 91.83684</td><td>40.39026</td><td>114.55868</td><td>166.488474</td></tr>\n",
       "\t<tr><td>Columbidae    </td><td>2197</td><td>22.42493</td><td>11.301133</td><td> 4.667422</td><td> 5.226912</td><td>27.532295</td><td>169.17167</td><td>53.297167</td><td>115.84533</td><td>31.12011</td><td>112.45552</td><td>257.899122</td></tr>\n",
       "\t<tr><td>Pycnonotidae  </td><td>2003</td><td>19.73671</td><td>11.323418</td><td> 4.498101</td><td> 5.304430</td><td>19.901266</td><td> 91.59810</td><td>14.243038</td><td> 77.30633</td><td>15.30506</td><td> 85.13608</td><td> 35.827025</td></tr>\n",
       "\t<tr><td>Parulidae     </td><td>1929</td><td>13.51557</td><td> 8.008197</td><td> 3.574590</td><td> 3.654918</td><td>19.549180</td><td> 62.65902</td><td>12.328689</td><td> 50.26393</td><td>19.47541</td><td> 53.88852</td><td> 11.583033</td></tr>\n",
       "</tbody>\n",
       "</table>\n"
      ],
      "text/latex": [
       "A tibble: 10 × 13\n",
       "\\begin{tabular}{lllllllllllll}\n",
       " Family1 & count & Beak.Length\\_Culmen & Beak.Length\\_Nares & Beak.Width & Beak.Depth & Tarsus.Length & Wing.Length & Kipps.Distance & Secondary1 & Hand-Wing.Index & Tail.Length & Mass\\\\\n",
       " <chr> & <dbl> & <dbl> & <dbl> & <dbl> & <dbl> & <dbl> & <dbl> & <dbl> & <dbl> & <dbl> & <dbl> & <dbl>\\\\\n",
       "\\hline\n",
       "\t Thraupidae     & 4988 & 14.98162 &  9.151471 &  5.147059 &  6.517402 & 20.008088 &  73.55637 & 13.916176 &  59.51912 & 18.84118 &  59.21642 &  23.264240\\\\\n",
       "\t Tyrannidae     & 4670 & 15.56258 &  9.114031 &  5.036748 &  4.019154 & 18.646771 &  71.56526 & 14.118040 &  57.40601 & 18.39532 &  61.27528 &  17.638731\\\\\n",
       "\t Furnariidae    & 3878 & 22.19301 & 15.050760 &  3.935866 &  4.908511 & 22.293313 &  80.44681 & 13.644681 &  66.80365 & 16.38172 &  79.69544 &  30.622097\\\\\n",
       "\t Trochilidae    & 3232 & 23.85738 & 18.869672 &  2.165574 &  2.053279 &  5.131148 &  57.00355 & 35.921038 &  20.89918 & 63.43224 &  40.48607 &   5.136995\\\\\n",
       "\t Muscicapidae   & 2927 & 16.52776 &  9.501493 &  4.050448 &  4.124478 & 23.618209 &  81.11552 & 15.688657 &  65.33761 & 19.14179 &  64.11015 &  24.417015\\\\\n",
       "\t Thamnophilidae & 2868 & 18.38388 & 10.777273 &  4.492149 &  4.857851 & 22.309917 &  63.35909 &  6.833884 &  57.16033 & 10.83967 &  52.60868 &  20.520620\\\\\n",
       "\t Psittacidae    & 2212 & 25.13895 & 20.775263 & 12.623421 & 21.402632 & 16.787895 & 152.61053 & 60.650789 &  91.83684 & 40.39026 & 114.55868 & 166.488474\\\\\n",
       "\t Columbidae     & 2197 & 22.42493 & 11.301133 &  4.667422 &  5.226912 & 27.532295 & 169.17167 & 53.297167 & 115.84533 & 31.12011 & 112.45552 & 257.899122\\\\\n",
       "\t Pycnonotidae   & 2003 & 19.73671 & 11.323418 &  4.498101 &  5.304430 & 19.901266 &  91.59810 & 14.243038 &  77.30633 & 15.30506 &  85.13608 &  35.827025\\\\\n",
       "\t Parulidae      & 1929 & 13.51557 &  8.008197 &  3.574590 &  3.654918 & 19.549180 &  62.65902 & 12.328689 &  50.26393 & 19.47541 &  53.88852 &  11.583033\\\\\n",
       "\\end{tabular}\n"
      ],
      "text/markdown": [
       "\n",
       "A tibble: 10 × 13\n",
       "\n",
       "| Family1 &lt;chr&gt; | count &lt;dbl&gt; | Beak.Length_Culmen &lt;dbl&gt; | Beak.Length_Nares &lt;dbl&gt; | Beak.Width &lt;dbl&gt; | Beak.Depth &lt;dbl&gt; | Tarsus.Length &lt;dbl&gt; | Wing.Length &lt;dbl&gt; | Kipps.Distance &lt;dbl&gt; | Secondary1 &lt;dbl&gt; | Hand-Wing.Index &lt;dbl&gt; | Tail.Length &lt;dbl&gt; | Mass &lt;dbl&gt; |\n",
       "|---|---|---|---|---|---|---|---|---|---|---|---|---|\n",
       "| Thraupidae     | 4988 | 14.98162 |  9.151471 |  5.147059 |  6.517402 | 20.008088 |  73.55637 | 13.916176 |  59.51912 | 18.84118 |  59.21642 |  23.264240 |\n",
       "| Tyrannidae     | 4670 | 15.56258 |  9.114031 |  5.036748 |  4.019154 | 18.646771 |  71.56526 | 14.118040 |  57.40601 | 18.39532 |  61.27528 |  17.638731 |\n",
       "| Furnariidae    | 3878 | 22.19301 | 15.050760 |  3.935866 |  4.908511 | 22.293313 |  80.44681 | 13.644681 |  66.80365 | 16.38172 |  79.69544 |  30.622097 |\n",
       "| Trochilidae    | 3232 | 23.85738 | 18.869672 |  2.165574 |  2.053279 |  5.131148 |  57.00355 | 35.921038 |  20.89918 | 63.43224 |  40.48607 |   5.136995 |\n",
       "| Muscicapidae   | 2927 | 16.52776 |  9.501493 |  4.050448 |  4.124478 | 23.618209 |  81.11552 | 15.688657 |  65.33761 | 19.14179 |  64.11015 |  24.417015 |\n",
       "| Thamnophilidae | 2868 | 18.38388 | 10.777273 |  4.492149 |  4.857851 | 22.309917 |  63.35909 |  6.833884 |  57.16033 | 10.83967 |  52.60868 |  20.520620 |\n",
       "| Psittacidae    | 2212 | 25.13895 | 20.775263 | 12.623421 | 21.402632 | 16.787895 | 152.61053 | 60.650789 |  91.83684 | 40.39026 | 114.55868 | 166.488474 |\n",
       "| Columbidae     | 2197 | 22.42493 | 11.301133 |  4.667422 |  5.226912 | 27.532295 | 169.17167 | 53.297167 | 115.84533 | 31.12011 | 112.45552 | 257.899122 |\n",
       "| Pycnonotidae   | 2003 | 19.73671 | 11.323418 |  4.498101 |  5.304430 | 19.901266 |  91.59810 | 14.243038 |  77.30633 | 15.30506 |  85.13608 |  35.827025 |\n",
       "| Parulidae      | 1929 | 13.51557 |  8.008197 |  3.574590 |  3.654918 | 19.549180 |  62.65902 | 12.328689 |  50.26393 | 19.47541 |  53.88852 |  11.583033 |\n",
       "\n"
      ],
      "text/plain": [
       "   Family1        count Beak.Length_Culmen Beak.Length_Nares Beak.Width\n",
       "1  Thraupidae     4988  14.98162            9.151471          5.147059 \n",
       "2  Tyrannidae     4670  15.56258            9.114031          5.036748 \n",
       "3  Furnariidae    3878  22.19301           15.050760          3.935866 \n",
       "4  Trochilidae    3232  23.85738           18.869672          2.165574 \n",
       "5  Muscicapidae   2927  16.52776            9.501493          4.050448 \n",
       "6  Thamnophilidae 2868  18.38388           10.777273          4.492149 \n",
       "7  Psittacidae    2212  25.13895           20.775263         12.623421 \n",
       "8  Columbidae     2197  22.42493           11.301133          4.667422 \n",
       "9  Pycnonotidae   2003  19.73671           11.323418          4.498101 \n",
       "10 Parulidae      1929  13.51557            8.008197          3.574590 \n",
       "   Beak.Depth Tarsus.Length Wing.Length Kipps.Distance Secondary1\n",
       "1   6.517402  20.008088      73.55637   13.916176       59.51912 \n",
       "2   4.019154  18.646771      71.56526   14.118040       57.40601 \n",
       "3   4.908511  22.293313      80.44681   13.644681       66.80365 \n",
       "4   2.053279   5.131148      57.00355   35.921038       20.89918 \n",
       "5   4.124478  23.618209      81.11552   15.688657       65.33761 \n",
       "6   4.857851  22.309917      63.35909    6.833884       57.16033 \n",
       "7  21.402632  16.787895     152.61053   60.650789       91.83684 \n",
       "8   5.226912  27.532295     169.17167   53.297167      115.84533 \n",
       "9   5.304430  19.901266      91.59810   14.243038       77.30633 \n",
       "10  3.654918  19.549180      62.65902   12.328689       50.26393 \n",
       "   Hand-Wing.Index Tail.Length Mass      \n",
       "1  18.84118         59.21642    23.264240\n",
       "2  18.39532         61.27528    17.638731\n",
       "3  16.38172         79.69544    30.622097\n",
       "4  63.43224         40.48607     5.136995\n",
       "5  19.14179         64.11015    24.417015\n",
       "6  10.83967         52.60868    20.520620\n",
       "7  40.39026        114.55868   166.488474\n",
       "8  31.12011        112.45552   257.899122\n",
       "9  15.30506         85.13608    35.827025\n",
       "10 19.47541         53.88852    11.583033"
      ]
     },
     "metadata": {},
     "output_type": "display_data"
    }
   ],
   "source": [
    "packageVersion(\"readxl\")\n",
    "# [1] ‘0.1.1’\n",
    "url = \"https://github.com/danizenarosa/dsci-100-grp43/raw/main/data/birds.xlsx\"\n",
    "GET(url, write_disk(tf <- tempfile(fileext = \".xlsx\")))\n",
    "birds_data <- read_excel(tf, 2, col_types = \"text\") |>\n",
    "              mutate(Total.individuals = as.numeric(Total.individuals), across(Beak.Length_Culmen:Mass, as.numeric))\n",
    "\n",
    "birds_count <- select(birds_data, Family1, Total.individuals, Beak.Length_Culmen:Mass) |>\n",
    "    group_by(Family1) |>\n",
    "    summarize(count = sum(Total.individuals), across(Beak.Length_Culmen:Mass, mean)) |> \n",
    "    slice_max(count, n = 10)   \n",
    "birds_count\n"
   ]
  }
 ],
 "metadata": {
  "kernelspec": {
   "display_name": "R",
   "language": "R",
   "name": "ir"
  },
  "language_info": {
   "codemirror_mode": "r",
   "file_extension": ".r",
   "mimetype": "text/x-r-source",
   "name": "R",
   "pygments_lexer": "r",
   "version": "4.3.1"
  }
 },
 "nbformat": 4,
 "nbformat_minor": 5
}
