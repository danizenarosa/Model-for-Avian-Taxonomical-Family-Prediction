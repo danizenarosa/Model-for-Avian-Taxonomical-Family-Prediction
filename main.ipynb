{
 "cells": [
  {
   "cell_type": "code",
   "execution_count": 14,
   "id": "8bb2a1fb-cdba-49fd-8766-0595c17b791b",
   "metadata": {},
   "outputs": [],
   "source": [
    "library(tidyverse)\n",
    "library(repr)\n",
    "library(readxl)\n",
    "library(tidymodels)\n",
    "options(repr.matrix.max.rows = 6)"
   ]
  },
  {
   "cell_type": "code",
   "execution_count": 15,
   "id": "c02f3ff4-b273-46bf-9a2a-836c2a026698",
   "metadata": {},
   "outputs": [
    {
     "name": "stderr",
     "output_type": "stream",
     "text": [
      "Warning message:\n",
      "“Expecting numeric in A4995 / R4995C1: got 'NA'”\n",
      "Warning message:\n",
      "“Expecting numeric in A5255 / R5255C1: got 'NA'”\n",
      "Warning message:\n",
      "“Expecting numeric in A5265 / R5265C1: got 'NA'”\n",
      "Warning message:\n",
      "“Expecting numeric in A5276 / R5276C1: got 'NA'”\n",
      "Warning message:\n",
      "“Expecting numeric in A6700 / R6700C1: got 'NA'”\n",
      "Warning message:\n",
      "“Expecting numeric in A6746 / R6746C1: got 'NA'”\n",
      "Warning message:\n",
      "“Expecting numeric in A7296 / R7296C1: got 'NA'”\n",
      "Warning message:\n",
      "“Expecting numeric in A7302 / R7302C1: got 'NA'”\n",
      "Warning message:\n",
      "“Expecting numeric in A7329 / R7329C1: got 'NA'”\n",
      "Warning message:\n",
      "“Expecting numeric in A7354 / R7354C1: got 'NA'”\n"
     ]
    },
    {
     "data": {
      "text/html": [
       "<table class=\"dataframe\">\n",
       "<caption>A tibble: 11009 × 37</caption>\n",
       "<thead>\n",
       "\t<tr><th scope=col>Sequence</th><th scope=col>Species1</th><th scope=col>Family1</th><th scope=col>Order1</th><th scope=col>Avibase.ID1</th><th scope=col>Total.individuals</th><th scope=col>Female</th><th scope=col>Male</th><th scope=col>Unknown</th><th scope=col>Complete.measures</th><th scope=col>⋯</th><th scope=col>Habitat.Density</th><th scope=col>Migration</th><th scope=col>Trophic.Level</th><th scope=col>Trophic.Niche</th><th scope=col>Primary.Lifestyle</th><th scope=col>Min.Latitude</th><th scope=col>Max.Latitude</th><th scope=col>Centroid.Latitude</th><th scope=col>Centroid.Longitude</th><th scope=col>Range.Size</th></tr>\n",
       "\t<tr><th scope=col>&lt;dbl&gt;</th><th scope=col>&lt;chr&gt;</th><th scope=col>&lt;chr&gt;</th><th scope=col>&lt;chr&gt;</th><th scope=col>&lt;chr&gt;</th><th scope=col>&lt;dbl&gt;</th><th scope=col>&lt;dbl&gt;</th><th scope=col>&lt;dbl&gt;</th><th scope=col>&lt;dbl&gt;</th><th scope=col>&lt;dbl&gt;</th><th scope=col>⋯</th><th scope=col>&lt;dbl&gt;</th><th scope=col>&lt;chr&gt;</th><th scope=col>&lt;chr&gt;</th><th scope=col>&lt;chr&gt;</th><th scope=col>&lt;chr&gt;</th><th scope=col>&lt;chr&gt;</th><th scope=col>&lt;chr&gt;</th><th scope=col>&lt;chr&gt;</th><th scope=col>&lt;chr&gt;</th><th scope=col>&lt;chr&gt;</th></tr>\n",
       "</thead>\n",
       "<tbody>\n",
       "\t<tr><td>3103</td><td>Accipiter albogularis</td><td>Accipitridae</td><td>Accipitriformes</td><td>AVIBASE-BBB59880</td><td> 5</td><td>2</td><td>0</td><td>3</td><td>4</td><td>⋯</td><td>1</td><td>2</td><td>Carnivore</td><td>Vertivore</td><td>Insessorial</td><td>-11.73</td><td>-4.0199999999999996</td><td>-8.15</td><td>158.49</td><td>37461.21   </td></tr>\n",
       "\t<tr><td>3090</td><td>Accipiter badius     </td><td>Accipitridae</td><td>Accipitriformes</td><td>AVIBASE-1A0ECB6E</td><td>10</td><td>4</td><td>6</td><td>0</td><td>8</td><td>⋯</td><td>2</td><td>3</td><td>Carnivore</td><td>Vertivore</td><td>Insessorial</td><td>-29.47</td><td>46.39              </td><td>8.23 </td><td>44.98 </td><td>22374973   </td></tr>\n",
       "\t<tr><td>3125</td><td>Accipiter bicolor    </td><td>Accipitridae</td><td>Accipitriformes</td><td>AVIBASE-ADBE44E1</td><td>11</td><td>4</td><td>5</td><td>2</td><td>8</td><td>⋯</td><td>2</td><td>2</td><td>Carnivore</td><td>Vertivore</td><td>Generalist </td><td>-55.72</td><td>23.73              </td><td>-10.1</td><td>-59.96</td><td>14309701.27</td></tr>\n",
       "\t<tr><td>⋮</td><td>⋮</td><td>⋮</td><td>⋮</td><td>⋮</td><td>⋮</td><td>⋮</td><td>⋮</td><td>⋮</td><td>⋮</td><td>⋱</td><td>⋮</td><td>⋮</td><td>⋮</td><td>⋮</td><td>⋮</td><td>⋮</td><td>⋮</td><td>⋮</td><td>⋮</td><td>⋮</td></tr>\n",
       "\t<tr><td>3255</td><td>Trogon surrucura</td><td>Trogonidae</td><td>Trogoniformes</td><td>AVIBASE-8F2D3109</td><td> 4</td><td> 2</td><td> 2</td><td>0</td><td> 4</td><td>⋯</td><td>1</td><td>1</td><td>Carnivore</td><td>Invertivore</td><td>Insessorial</td><td>-31.18</td><td>-10.87</td><td>-23.08              </td><td>-51.01</td><td>1366931           </td></tr>\n",
       "\t<tr><td>3252</td><td>Trogon violaceus</td><td>Trogonidae</td><td>Trogoniformes</td><td>AVIBASE-2123574A</td><td>28</td><td>11</td><td>16</td><td>1</td><td>14</td><td>⋯</td><td>1</td><td>1</td><td>Herbivore</td><td>Frugivore  </td><td>Insessorial</td><td>-15.61</td><td>22.29 </td><td>-0.56999999999999995</td><td>-66.12</td><td>7284998.29        </td></tr>\n",
       "\t<tr><td>3247</td><td>Trogon viridis  </td><td>Trogonidae</td><td>Trogoniformes</td><td>AVIBASE-BA2F0BFD</td><td>16</td><td> 7</td><td> 8</td><td>1</td><td> 8</td><td>⋯</td><td>1</td><td>1</td><td>Omnivore </td><td>Frugivore  </td><td>Insessorial</td><td>-26.94</td><td>10.84 </td><td>-4.75               </td><td>-60.54</td><td>7907953.7599999998</td></tr>\n",
       "</tbody>\n",
       "</table>\n"
      ],
      "text/latex": [
       "A tibble: 11009 × 37\n",
       "\\begin{tabular}{lllllllllllllllllllll}\n",
       " Sequence & Species1 & Family1 & Order1 & Avibase.ID1 & Total.individuals & Female & Male & Unknown & Complete.measures & ⋯ & Habitat.Density & Migration & Trophic.Level & Trophic.Niche & Primary.Lifestyle & Min.Latitude & Max.Latitude & Centroid.Latitude & Centroid.Longitude & Range.Size\\\\\n",
       " <dbl> & <chr> & <chr> & <chr> & <chr> & <dbl> & <dbl> & <dbl> & <dbl> & <dbl> & ⋯ & <dbl> & <chr> & <chr> & <chr> & <chr> & <chr> & <chr> & <chr> & <chr> & <chr>\\\\\n",
       "\\hline\n",
       "\t 3103 & Accipiter albogularis & Accipitridae & Accipitriformes & AVIBASE-BBB59880 &  5 & 2 & 0 & 3 & 4 & ⋯ & 1 & 2 & Carnivore & Vertivore & Insessorial & -11.73 & -4.0199999999999996 & -8.15 & 158.49 & 37461.21   \\\\\n",
       "\t 3090 & Accipiter badius      & Accipitridae & Accipitriformes & AVIBASE-1A0ECB6E & 10 & 4 & 6 & 0 & 8 & ⋯ & 2 & 3 & Carnivore & Vertivore & Insessorial & -29.47 & 46.39               & 8.23  & 44.98  & 22374973   \\\\\n",
       "\t 3125 & Accipiter bicolor     & Accipitridae & Accipitriformes & AVIBASE-ADBE44E1 & 11 & 4 & 5 & 2 & 8 & ⋯ & 2 & 2 & Carnivore & Vertivore & Generalist  & -55.72 & 23.73               & -10.1 & -59.96 & 14309701.27\\\\\n",
       "\t ⋮ & ⋮ & ⋮ & ⋮ & ⋮ & ⋮ & ⋮ & ⋮ & ⋮ & ⋮ & ⋱ & ⋮ & ⋮ & ⋮ & ⋮ & ⋮ & ⋮ & ⋮ & ⋮ & ⋮ & ⋮\\\\\n",
       "\t 3255 & Trogon surrucura & Trogonidae & Trogoniformes & AVIBASE-8F2D3109 &  4 &  2 &  2 & 0 &  4 & ⋯ & 1 & 1 & Carnivore & Invertivore & Insessorial & -31.18 & -10.87 & -23.08               & -51.01 & 1366931           \\\\\n",
       "\t 3252 & Trogon violaceus & Trogonidae & Trogoniformes & AVIBASE-2123574A & 28 & 11 & 16 & 1 & 14 & ⋯ & 1 & 1 & Herbivore & Frugivore   & Insessorial & -15.61 & 22.29  & -0.56999999999999995 & -66.12 & 7284998.29        \\\\\n",
       "\t 3247 & Trogon viridis   & Trogonidae & Trogoniformes & AVIBASE-BA2F0BFD & 16 &  7 &  8 & 1 &  8 & ⋯ & 1 & 1 & Omnivore  & Frugivore   & Insessorial & -26.94 & 10.84  & -4.75                & -60.54 & 7907953.7599999998\\\\\n",
       "\\end{tabular}\n"
      ],
      "text/markdown": [
       "\n",
       "A tibble: 11009 × 37\n",
       "\n",
       "| Sequence &lt;dbl&gt; | Species1 &lt;chr&gt; | Family1 &lt;chr&gt; | Order1 &lt;chr&gt; | Avibase.ID1 &lt;chr&gt; | Total.individuals &lt;dbl&gt; | Female &lt;dbl&gt; | Male &lt;dbl&gt; | Unknown &lt;dbl&gt; | Complete.measures &lt;dbl&gt; | ⋯ ⋯ | Habitat.Density &lt;dbl&gt; | Migration &lt;chr&gt; | Trophic.Level &lt;chr&gt; | Trophic.Niche &lt;chr&gt; | Primary.Lifestyle &lt;chr&gt; | Min.Latitude &lt;chr&gt; | Max.Latitude &lt;chr&gt; | Centroid.Latitude &lt;chr&gt; | Centroid.Longitude &lt;chr&gt; | Range.Size &lt;chr&gt; |\n",
       "|---|---|---|---|---|---|---|---|---|---|---|---|---|---|---|---|---|---|---|---|---|\n",
       "| 3103 | Accipiter albogularis | Accipitridae | Accipitriformes | AVIBASE-BBB59880 |  5 | 2 | 0 | 3 | 4 | ⋯ | 1 | 2 | Carnivore | Vertivore | Insessorial | -11.73 | -4.0199999999999996 | -8.15 | 158.49 | 37461.21    |\n",
       "| 3090 | Accipiter badius      | Accipitridae | Accipitriformes | AVIBASE-1A0ECB6E | 10 | 4 | 6 | 0 | 8 | ⋯ | 2 | 3 | Carnivore | Vertivore | Insessorial | -29.47 | 46.39               | 8.23  | 44.98  | 22374973    |\n",
       "| 3125 | Accipiter bicolor     | Accipitridae | Accipitriformes | AVIBASE-ADBE44E1 | 11 | 4 | 5 | 2 | 8 | ⋯ | 2 | 2 | Carnivore | Vertivore | Generalist  | -55.72 | 23.73               | -10.1 | -59.96 | 14309701.27 |\n",
       "| ⋮ | ⋮ | ⋮ | ⋮ | ⋮ | ⋮ | ⋮ | ⋮ | ⋮ | ⋮ | ⋱ | ⋮ | ⋮ | ⋮ | ⋮ | ⋮ | ⋮ | ⋮ | ⋮ | ⋮ | ⋮ |\n",
       "| 3255 | Trogon surrucura | Trogonidae | Trogoniformes | AVIBASE-8F2D3109 |  4 |  2 |  2 | 0 |  4 | ⋯ | 1 | 1 | Carnivore | Invertivore | Insessorial | -31.18 | -10.87 | -23.08               | -51.01 | 1366931            |\n",
       "| 3252 | Trogon violaceus | Trogonidae | Trogoniformes | AVIBASE-2123574A | 28 | 11 | 16 | 1 | 14 | ⋯ | 1 | 1 | Herbivore | Frugivore   | Insessorial | -15.61 | 22.29  | -0.56999999999999995 | -66.12 | 7284998.29         |\n",
       "| 3247 | Trogon viridis   | Trogonidae | Trogoniformes | AVIBASE-BA2F0BFD | 16 |  7 |  8 | 1 |  8 | ⋯ | 1 | 1 | Omnivore  | Frugivore   | Insessorial | -26.94 | 10.84  | -4.75                | -60.54 | 7907953.7599999998 |\n",
       "\n"
      ],
      "text/plain": [
       "      Sequence Species1              Family1      Order1         \n",
       "1     3103     Accipiter albogularis Accipitridae Accipitriformes\n",
       "2     3090     Accipiter badius      Accipitridae Accipitriformes\n",
       "3     3125     Accipiter bicolor     Accipitridae Accipitriformes\n",
       "⋮     ⋮        ⋮                     ⋮            ⋮              \n",
       "11007 3255     Trogon surrucura      Trogonidae   Trogoniformes  \n",
       "11008 3252     Trogon violaceus      Trogonidae   Trogoniformes  \n",
       "11009 3247     Trogon viridis        Trogonidae   Trogoniformes  \n",
       "      Avibase.ID1      Total.individuals Female Male Unknown Complete.measures\n",
       "1     AVIBASE-BBB59880  5                2      0    3       4                \n",
       "2     AVIBASE-1A0ECB6E 10                4      6    0       8                \n",
       "3     AVIBASE-ADBE44E1 11                4      5    2       8                \n",
       "⋮     ⋮                ⋮                 ⋮      ⋮    ⋮       ⋮                \n",
       "11007 AVIBASE-8F2D3109  4                 2      2   0        4               \n",
       "11008 AVIBASE-2123574A 28                11     16   1       14               \n",
       "11009 AVIBASE-BA2F0BFD 16                 7      8   1        8               \n",
       "      ⋯ Habitat.Density Migration Trophic.Level Trophic.Niche Primary.Lifestyle\n",
       "1     ⋯ 1               2         Carnivore     Vertivore     Insessorial      \n",
       "2     ⋯ 2               3         Carnivore     Vertivore     Insessorial      \n",
       "3     ⋯ 2               2         Carnivore     Vertivore     Generalist       \n",
       "⋮     ⋱ ⋮               ⋮         ⋮             ⋮             ⋮                \n",
       "11007 ⋯ 1               1         Carnivore     Invertivore   Insessorial      \n",
       "11008 ⋯ 1               1         Herbivore     Frugivore     Insessorial      \n",
       "11009 ⋯ 1               1         Omnivore      Frugivore     Insessorial      \n",
       "      Min.Latitude Max.Latitude        Centroid.Latitude    Centroid.Longitude\n",
       "1     -11.73       -4.0199999999999996 -8.15                158.49            \n",
       "2     -29.47       46.39               8.23                 44.98             \n",
       "3     -55.72       23.73               -10.1                -59.96            \n",
       "⋮     ⋮            ⋮                   ⋮                    ⋮                 \n",
       "11007 -31.18       -10.87              -23.08               -51.01            \n",
       "11008 -15.61       22.29               -0.56999999999999995 -66.12            \n",
       "11009 -26.94       10.84               -4.75                -60.54            \n",
       "      Range.Size        \n",
       "1     37461.21          \n",
       "2     22374973          \n",
       "3     14309701.27       \n",
       "⋮     ⋮                 \n",
       "11007 1366931           \n",
       "11008 7284998.29        \n",
       "11009 7907953.7599999998"
      ]
     },
     "metadata": {},
     "output_type": "display_data"
    }
   ],
   "source": [
    "read_excel(\"data/birds.xlsx\", sheet = \"AVONET1_BirdLife\")"
   ]
  }
 ],
 "metadata": {
  "kernelspec": {
   "display_name": "R",
   "language": "R",
   "name": "ir"
  },
  "language_info": {
   "codemirror_mode": "r",
   "file_extension": ".r",
   "mimetype": "text/x-r-source",
   "name": "R",
   "pygments_lexer": "r",
   "version": "4.3.1"
  }
 },
 "nbformat": 4,
 "nbformat_minor": 5
}
